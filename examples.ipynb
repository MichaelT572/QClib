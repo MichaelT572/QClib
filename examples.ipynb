{
 "cells": [
  {
   "cell_type": "markdown",
   "id": "9af52660",
   "metadata": {},
   "source": [
    "Example Snippets of my Quantum Circuit Library (QClib) and a brief introduction to Quantum Computing"
   ]
  },
  {
   "cell_type": "code",
   "execution_count": null,
   "id": "f88e83de",
   "metadata": {},
   "outputs": [],
   "source": [
    "from qclib import *"
   ]
  },
  {
   "cell_type": "markdown",
   "id": "3c5417e5",
   "metadata": {},
   "source": [
    "$\\textbf{A Brief introduction to Quantum Mechanics}$:\n",
    "\n",
    "Lets consider a system that, when we measure it, can only be in one of two states, 0 or 1 (such as a computer bit). Now consider a machine that prepares the system in the EXACT same way every time.\n",
    "\n",
    "Classically, when we measure the system we would expect to get the same output every time. However, given quantum observations, we have found that we may prepare a system that, upon measuring, randomly is in state 0 OR 1 despite the initial conditions being the same (this was an incredibly suprising finding; one that Einstein did not like!). To describe this strange behavior conveniently, we turn to the language of linear algebra.\n",
    "\n",
    "\n",
    "Consider the system in state 0. By definition, when we measure it we will always get a 0 as long as we don't change its state. We will call this state that always returns 0, \"$\\ket{0}$\". Likewise, let \"$\\ket{1}$\" be the state that always returns 1 (this notation, $\\ket{\\text{\"label\"}}$, is known as Dirac notation). In quantum mechanics, we will consider states of our system that, upon measurement, are in state $\\ket{0}$ a portion of the time and in state $\\ket{1}$ otherwise. Specifically, we will write this strange state, labeled \"$\\ket{\\psi}$\", as\n",
    "\n",
    "$$\\ket{\\psi} = \\alpha \\ket{0} + \\beta \\ket{1}$$\n",
    "\n",
    "where $\\alpha, \\beta \\in \\mathbb{C}$. (A quick note: we've written $\\ket{\\psi}$ as \"partly $\\ket{0}$, partly $\\ket{1}$\", so why are we using complex numbers? We will find later on that this choice is incredibly convenient, allowing us to encode aspects such as phase into our states. For simplicity, most examples will be shown with just real numbers however).\n",
    "\n",
    "After measurement, we let the probability of being in state $\\ket{0}$, $p_0$, be $|\\alpha|^2$, and the probability of being in state $\\ket{1}$, $p_1$, to be be $|\\beta|^2$. Clearly, these probabilities must sum to 1, hence we have $|\\alpha|^2 + |\\beta|^2 = 1$ (Why the magnitude squared? Again, this is chosen for 2 good reasons: 1. Since we decided to include complex numbers, this ensures that the probabilities are positive, real numbers and 2. Notice that in the basis $\\{ \\ket{0}, \\ket{1} \\}$, any physical state is a $\\textit{normalized vector}$; we will talk more about vector representations later).\n",
    "\n",
    "$\\textbf{Exercise 1:}$ Suppose we prepare a state that returns 0 50% of the time and 1 50% of the time. What are some choices of $\\alpha, \\beta \\in \\mathbb{C}$ that satisfy these observations? This will turn out to be a very useful state later on."
   ]
  },
  {
   "cell_type": "markdown",
   "id": "2770be37",
   "metadata": {},
   "source": [
    "$\\textbf{Vector Representations and Operations}$:\n",
    "\n",
    "So far, we have written quantum states, $\\ket{\\psi}$, as linear combinations of $\\{ \\ket{0}, \\ket{1} \\}$. Using these states as a $\\textit{basis}$, we can instead write:\n",
    "\n",
    "$$\n",
    "\\ket{0} = \\begin{bmatrix} 1 \\\\ 0 \\end{bmatrix}, \\ket{1} = \\begin{bmatrix} 0 \\\\ 1 \\end{bmatrix}, \\ket{\\psi} = \\alpha \\ket{0} + \\beta \\ket{1} = \\begin{bmatrix} \\alpha \\\\ \\beta \\end{bmatrix}\n",
    "$$\n",
    "\n",
    "Now that we can write down our quantum states, lets start manipulating them in interesting ways. These operations will be $\\textit{linear}$ and, for the most part, $\\textit{unitary}$, hence we can write them as a matrix acting on our state $\\ket{\\psi}$.\n",
    "\n",
    "$\\textbf{Exercise 2.1:}$ Argue why we should expect these operations to be linear. Consider the superposition principle.\n",
    "\n",
    "$\\textbf{Exercise 2.2:}$ Argue why quantum operations are unitary (Hint: How should probabilities behave?).\n",
    "\n",
    "Consider the classical $\\mathrm{NOT}$ gate. Lets try writing down a quantum operation, called $X$, that emulates this:\n",
    "\n",
    "$$ \n",
    "\\ket{0} \\mapsto \\ket{1}, \\ket{1} \\mapsto \\ket{0}\n",
    "$$\n",
    "$$\n",
    "\\Rightarrow X = \\begin{bmatrix} 0 & 1 \\\\ 1 & 0 \\end{bmatrix}\n",
    "$$\n",
    "\n",
    "$\\textbf{Exercise 3:}$ Write down the matrix representation of an operation that sends\n",
    "$$\\ket{0} \\mapsto \\frac{1}{\\sqrt{2}}(\\ket{0} + \\ket{1}), \\;\\; \\ket{1} \\mapsto \\frac{1}{\\sqrt{2}}(\\ket{0} - \\ket{1})$$\n",
    "This is known as a $\\textit{Hadamard Gate}$, labeled $H$, and will be very useful to us later. Notice that $H\\ket{0}$ and $H\\ket{1}$ are both solutions to Exercise 1."
   ]
  },
  {
   "cell_type": "markdown",
   "id": "bc3d1e0d",
   "metadata": {},
   "source": [
    "$\\textbf{Multi-Qubit Systems and Quantum Circuits}$:\n",
    "\n",
    "We refer to the two-state system from above as a $\\textit{qubit}$ (quantum-bit). If we have 2 qubits, there are 4 basis states that we could observe: $\\{\\ket{00}, \\ket{01}, \\ket{10}, \\ket{11}\\}$. In general, for $n$-qubits, there are $2^n$ basis states descibing our system. \n",
    "A $\\textit{quantum circuit}$ will represent $n$-qubits, each sitting on their own \"wire\" and all operations (now referred to as $\\textit{gates}$) that we will perform, going left to right. Run the following cells to see example circuits acting on one and two qubits and observe how it transforms each initial basis state:"
   ]
  },
  {
   "cell_type": "code",
   "execution_count": null,
   "id": "8e93fee2",
   "metadata": {},
   "outputs": [],
   "source": [
    "# Create a quantum circuit (QC) applying H to one qubit\n",
    "qc = QC(1)\n",
    "qc.add_gate(HADAMARD, targets=[0])\n",
    "\n",
    "state_0 = np.array([\n",
    "    [1.0],\n",
    "    [0.0]\n",
    "])\n",
    "state_1 = np.array([\n",
    "    [0.0],\n",
    "    [1.0]\n",
    "])\n",
    "\n",
    "# Lets run the circuit on each basis state\n",
    "\n",
    "# This function lets us print our state in Dirac notation\n",
    "print(\"|0> ->\", dirac(qc.get_matrix() @ state_0))\n",
    "print(\"|1> ->\", dirac(qc.get_matrix() @ state_1))\n",
    "\n",
    "# Renders a schematic of the circuit\n",
    "qc.render()\n",
    "draw()"
   ]
  },
  {
   "cell_type": "code",
   "execution_count": null,
   "id": "4239408a",
   "metadata": {},
   "outputs": [],
   "source": [
    "# Create a quantum circuit (QC) and add X-gates on the first and second qubit (wires are indexed bottom to top, i.e. the \"first\" qubit is the least significant digit)\n",
    "qc = QC(2)\n",
    "qc.add_gate(X, targets=[0])\n",
    "qc.add_gate(X, targets=[1])\n",
    "\n",
    "# Lets run the circuit on each basis state\n",
    "for basis_i in range(4):\n",
    "    basis_state = np.zeros([4, 1])\n",
    "    basis_state[basis_i] = 1.0\n",
    "\n",
    "    # This function lets us print our state in Dirac notation\n",
    "    print(dirac(basis_state), end = \" -> \")\n",
    "\n",
    "    # In this case, our quantum circuit consists of only quantum operations; lets grab the total matrix and apply it to our input\n",
    "    print(dirac(qc.get_matrix() @ basis_state))\n",
    "\n",
    "# Renders a schematic of the circuit\n",
    "qc.render()\n",
    "draw()"
   ]
  },
  {
   "cell_type": "code",
   "execution_count": null,
   "id": "2c1b130b",
   "metadata": {},
   "outputs": [],
   "source": [
    "# Similar example, applying H to the first qubit. Notice the second qubit does not change\n",
    "qc = QC(2)\n",
    "qc.add_gate(HADAMARD, targets=[0])\n",
    "\n",
    "# Lets run the circuit on each basis state\n",
    "for basis_i in range(4):\n",
    "    basis_state = np.zeros([4, 1])\n",
    "    basis_state[basis_i] = 1.0\n",
    "\n",
    "    # This function lets us print our state in Dirac notation\n",
    "    print(dirac(basis_state), end = \" -> \")\n",
    "\n",
    "    # In this case, our quantum circuit consists of only quantum operations; lets grab the total matrix and apply it to our input\n",
    "    print(dirac(qc.get_matrix() @ basis_state))\n",
    "\n",
    "# Renders a schematic of the circuit\n",
    "qc.render()\n",
    "draw()"
   ]
  },
  {
   "cell_type": "markdown",
   "id": "a159e7b8",
   "metadata": {},
   "source": [
    "$\\textbf{Multi-Qubit Gates}$:\n",
    "\n",
    "Consider a single-qubit operation $U$. For our purposes, we will consider the multi-qubit operation $\\textit{controlled-}U$, $C^{k}(U)$, which acts by $U$ on a qubit ONLY if all $k$ \"control\" qubits are in state $\\ket{1}$.\n",
    "\n",
    "$\\textbf{Exercise 4:}$ The following cell shows an example of a controlled-$\\mathrm{NOT}$ gate ($\\mathrm{CNOT}$, this is so important it gets its own diagram symbol!), with $X$ acting on the bottom qubit and controlled by the top qubit. In the ordered basis $\\{\\ket{00}, \\ket{01}, \\ket{10}, \\ket{11}\\}$, write down the matrix representation of this gate (Uncomment the code in the next cell to check your answer)."
   ]
  },
  {
   "cell_type": "code",
   "execution_count": null,
   "id": "2d022776",
   "metadata": {},
   "outputs": [],
   "source": [
    "qc = QC(2)\n",
    "qc.add_gate(X, targets=[0], controls=[1])\n",
    "\n",
    "# Uncomment this print statement for the answer to the exercise\n",
    "# print(qc.get_matrix().toarray().real)\n",
    "\n",
    "# Uncomment this block to see how it acts on each basis state\n",
    "# for basis_i in range(4):\n",
    "#     basis_state = np.zeros([4, 1])\n",
    "#     basis_state[basis_i] = 1.0\n",
    "\n",
    "#     print(dirac(basis_state), end = \" -> \")\n",
    "#     print(dirac(qc.get_matrix() @ basis_state))\n",
    "\n",
    "qc.render()\n",
    "draw()"
   ]
  },
  {
   "cell_type": "markdown",
   "id": "44df30fd",
   "metadata": {},
   "source": [
    "$\\textbf{Exercise 5:}$ Repeat exercise 4, this time with a controlled-Hadamard gate (See next cell for solution)."
   ]
  },
  {
   "cell_type": "code",
   "execution_count": null,
   "id": "736660e7",
   "metadata": {},
   "outputs": [],
   "source": [
    "qc = QC(2)\n",
    "qc.add_gate(HADAMARD, targets=[0], controls=[1])\n",
    "\n",
    "# Uncomment this print statement for the answer to the exercise\n",
    "# print(qc.get_matrix().toarray().real)\n",
    "\n",
    "# Uncomment this block to see how it acts on each basis state\n",
    "# for basis_i in range(4):\n",
    "#     basis_state = np.zeros([4, 1])\n",
    "#     basis_state[basis_i] = 1.0\n",
    "\n",
    "#     print(dirac(basis_state), end = \" -> \")\n",
    "#     print(dirac(qc.get_matrix() @ basis_state))\n",
    "\n",
    "qc.render()\n",
    "draw()"
   ]
  },
  {
   "cell_type": "markdown",
   "id": "2ffe4a7e",
   "metadata": {},
   "source": [
    "$\\textbf{Exercise 6:}$ Repeat exercise 4, this time with a $C^2(X)$ gate (This is also a very important gate; known as the Treffoli Gate)."
   ]
  },
  {
   "cell_type": "code",
   "execution_count": null,
   "id": "3af4a85d",
   "metadata": {},
   "outputs": [],
   "source": [
    "qc = QC(3)\n",
    "qc.add_gate(X, targets=[0], controls=[1, 2])\n",
    "\n",
    "# Uncomment this print statement for the answer to the exercise\n",
    "# print(qc.get_matrix().toarray().real)\n",
    "\n",
    "# Uncomment this block to see how it acts on each basis state\n",
    "# for basis_i in range(8):\n",
    "#     basis_state = np.zeros([8, 1])\n",
    "#     basis_state[basis_i] = 1.0\n",
    "\n",
    "#     print(dirac(basis_state), end = \" -> \")\n",
    "#     print(dirac(qc.get_matrix() @ basis_state))\n",
    "\n",
    "qc.render()\n",
    "draw()"
   ]
  },
  {
   "cell_type": "markdown",
   "id": "6eec6cdd",
   "metadata": {},
   "source": [
    "$\\textbf{Measurements}$:\n",
    "\n",
    "What happens when we measure a quantum state? Lets use the example of $\\ket{\\psi} = \\frac{1}{\\sqrt{2}} (\\ket{0} + \\ket{1})$.\n",
    "\n",
    "As we originally discussed, $\\ket{\\psi}$ represents a state that, upon measurement, is in state $\\ket{0}$ 50% of the time and otherwise in state $\\ket{1}$. Hence, we can think of measuring a qubit as a $\\textit{projection}$ to a specific basis state with its associated probability.\n",
    "\n",
    "See the next cells for examples of measuring qubit:"
   ]
  },
  {
   "cell_type": "code",
   "execution_count": null,
   "id": "9d1c0892",
   "metadata": {},
   "outputs": [],
   "source": [
    "qc = QC(1)\n",
    "\n",
    "# Measure the qubit's state\n",
    "qc.add_measurement(target = 0)\n",
    "\n",
    "# Try your own state!\n",
    "state = np.zeros([2, 1])\n",
    "state[0] = 1.0 / np.sqrt(2.0)\n",
    "state[1] = 1.0 / np.sqrt(2.0)\n",
    "\n",
    "# Since we have added in measurements, we get an \"ensemble\" of possible, pure output states\n",
    "final_ensemble = qc.run(state) # This will get the final ensemble, formatted [probability, state (vector form), state of classical wires (none in this example)]\n",
    "\n",
    "print(f\"Input State: {dirac(state)}\")\n",
    "print(\"Output Ensemble:\")\n",
    "for pure_state in final_ensemble:\n",
    "    print(f\"{round(100 * pure_state[0], 2)}% - {dirac(pure_state[1])}\")\n",
    "\n",
    "qc.render()\n",
    "draw()"
   ]
  },
  {
   "cell_type": "code",
   "execution_count": null,
   "id": "fe684f50",
   "metadata": {},
   "outputs": [],
   "source": [
    "qc = QC(2)\n",
    "\n",
    "# Mix up the second qubit's state using Hadamard gate\n",
    "qc.add_gate(HADAMARD, targets = [1])\n",
    "\n",
    "# Measure the second qubit's state, and save it to classical wire 0\n",
    "qc.add_measurement(target = 1, control = 0)\n",
    "\n",
    "# Apply X to the first qubit, controlled by classical wire 0\n",
    "qc.add_gate(X, targets = [0], classical_control = 0)\n",
    "\n",
    "# State |00>\n",
    "state = np.zeros([4, 1])\n",
    "state[0] = 1.0\n",
    "\n",
    "final_ensemble = remove_classical(qc.run(state)) # Remove the classical wires from the ensemble\n",
    "qubit_0_ensemble = qubit_ensemble(final_ensemble, 0) # This will get the ensemble of just qubit 0\n",
    "\n",
    "print(f\"Input State: {dirac(state)}\")\n",
    "print(\"Output Ensemble for qubit 0:\")\n",
    "for pure_state in qubit_0_ensemble:\n",
    "    print(f\"{round(100 * pure_state[0], 2)}% - {dirac(pure_state[1])}\")\n",
    "\n",
    "qc.render()\n",
    "draw()"
   ]
  },
  {
   "cell_type": "markdown",
   "id": "6dbc54ee",
   "metadata": {},
   "source": [
    "$\\textbf{Example 1: Entanglement}$ \n",
    "\n",
    "Now that we have the required machinery, lets look at some cool results.\n",
    "\n",
    "This first example creates two entangled qubits; by measuring the one qubit, you effect the state of the other! Most suprisingly, the state of the system has nothing to do with how far apart these qubits are; this is Einstein's \"spooky action at a distance\"! As an exercise, try writing down how the circuit acts on each basis state (uncomment the code for the answer)."
   ]
  },
  {
   "cell_type": "code",
   "execution_count": null,
   "id": "e810c2ef",
   "metadata": {},
   "outputs": [],
   "source": [
    "qc = QC(2)\n",
    "\n",
    "qc.add_gate(HADAMARD, targets = [1])\n",
    "qc.add_gate(X, targets = [0], controls = [1])\n",
    "\n",
    "# Uncomment this print statement for the answer to the exercise\n",
    "# print(qc.get_matrix().toarray().real)\n",
    "\n",
    "# Uncomment this block to see how it acts on each basis state\n",
    "# for basis_i in range(4):\n",
    "#     basis_state = np.zeros([4, 1])\n",
    "#     basis_state[basis_i] = 1.0\n",
    "\n",
    "#     print(dirac(basis_state), end = \" -> \")\n",
    "#     print(dirac(qc.get_matrix() @ basis_state))\n",
    "\n",
    "qc.render()\n",
    "draw()"
   ]
  },
  {
   "cell_type": "markdown",
   "id": "5d18a551",
   "metadata": {},
   "source": [
    "These 2-qubit states are known as the $\\textit{Bell States}$; run the next example to see how measuring one qubit effects the other."
   ]
  },
  {
   "cell_type": "code",
   "execution_count": null,
   "id": "b5e8055c",
   "metadata": {},
   "outputs": [],
   "source": [
    "qc = QC(2)\n",
    "\n",
    "qc.add_measurement(target = 1)\n",
    "\n",
    "# Starting in entangled state (1st bell state, apply above circuit to |00>)\n",
    "# 1/sqrt(2) * (|00> + |11>)\n",
    "state = np.zeros([4, 1])\n",
    "state[0] = 1.0 / np.sqrt(2.0)\n",
    "state[3] = 1.0 / np.sqrt(2.0)\n",
    "\n",
    "# State of the bottom qubit before measurment\n",
    "print(\"Original Bottom State:\", dirac(qubit_state(state, 0)))\n",
    "\n",
    "# Ensemble of the bottom qubit after measurement, notice in all cases it is not the original state!\n",
    "final_ensemble = remove_classical(qc.run(state))\n",
    "qubit_0_ensemble = qubit_ensemble(final_ensemble, 0)\n",
    "print(\"Final Bottom State:\")\n",
    "for pure_state in qubit_0_ensemble:\n",
    "    print(f\"{round(100 * pure_state[0], 2)}% - {dirac(pure_state[1])}\")\n",
    "\n",
    "qc.render()\n",
    "draw()"
   ]
  },
  {
   "cell_type": "markdown",
   "id": "c7fb6259",
   "metadata": {},
   "source": [
    "$\\textbf{Example 2: Quantum State Teleportation}$ \n",
    "\n",
    "While the above example does show a very counter-intuitive example of quantum effects, it isn't exactly useful. Consider two people, Alice and Bob, each holding one of the entangled qubits ($\\ket{A}, \\ket{B}$ resp.). If Alice measures her qubit, Bob's qubit's state will change. However, he won't know what it changed to unless Alice tells him the result of her measurement (hence, we don't get any faster-than-light, causality breaking effects).\n",
    "\n",
    "However, we can apply entangled qubits to do more interesting tasks. Suppose Alice has another qubit in state $\\ket{\\psi} = \\alpha \\ket{0} + \\beta \\ket{1}$. This exact state holds a lot of information; trying to communicate the exact values of $\\alpha$ and $\\beta$ to Bob could take a lot of, classical, bits of information! The following circuit uses entangled state to set Bob's qubit to $\\ket{\\psi}$ in only 2 bits of information, try to figure out how it works! (Hint: Write out the action of each gate step by step on the starting state, $\\ket{000}$)\n",
    "\n",
    "(Here, top to bottom, the qubits start as $\\ket{\\psi}$, Alice's qubit (initially $\\ket{0}$), Bob's qubit (initially $\\ket{0}$). The circuit to the left of the dashed line is the entanglement circuit previously seen)\n",
    "\n",
    "Note that this circuit makes use of a $Z$-gate. This is:\n",
    "$$\n",
    "Z = \\begin{bmatrix} 1 & 0 \\\\ 0 & -1 \\end{bmatrix}\n",
    "$$"
   ]
  },
  {
   "cell_type": "code",
   "execution_count": null,
   "id": "f3a5e439",
   "metadata": {},
   "outputs": [],
   "source": [
    "# Try your own values of alpha, beta! Make sure the state is normalized\n",
    "alpha = complex(-0.3999775, 0.585763)\n",
    "beta = complex(0.6, 0.37)\n",
    "# print(round(abs(alpha)**2 + abs(beta)**2, 10))\n",
    "\n",
    "qc = QC(3)\n",
    "\n",
    "qc.add_gate(HADAMARD, [1])\n",
    "qc.add_gate(X, [0], [1])\n",
    "qc.add_gate(X, [1], [2])\n",
    "qc.add_gate(HADAMARD, [2])\n",
    "qc.add_measurement(2, 0)\n",
    "qc.add_measurement(1, 1)\n",
    "qc.add_gate(X, [0], classical_control=1)\n",
    "qc.add_gate(Z, [0], classical_control=0)\n",
    "\n",
    "# Initial state\n",
    "state = np.zeros([8, 1], dtype=np.complex128)\n",
    "state[0] = alpha\n",
    "state[4] = beta\n",
    "\n",
    "bob_ensemble = remove_classical(qubit_ensemble(qc.run(state), 0))\n",
    "\n",
    "print(\"|psi> =\", dirac(qubit_state(state, 2), 5))\n",
    "print(\"Bob's output ensemble:\")\n",
    "for pure_state in bob_ensemble:\n",
    "    print(f\"\\t{round(100 * pure_state[0], 2)}% - {dirac(pure_state[1], 5)}\")\n",
    "\n",
    "if (len(bob_ensemble) == 1):\n",
    "    if np.allclose(bob_ensemble[0][1], qubit_state(state, 2)):\n",
    "        print(\"Hooray! Teleport Successful\")\n",
    "\n",
    "qc.render(fig_scale = 2.0)\n",
    "plt.plot([2.5, 2.5], [-.3, 2.3], linestyle='--', linewidth=2, color=[1, .2, .2])\n",
    "draw()"
   ]
  },
  {
   "cell_type": "markdown",
   "id": "5e51f11e",
   "metadata": {},
   "source": [
    "$\\textbf{Closing Remarks:}$\n",
    "\n",
    "Note that we have left many quesitons unanswered including but not limited to: \n",
    "\n",
    "    - Why is Dirac notation helpful?\n",
    "    - How does this relate to more famous quantum effects? (i.e. double-slit, Schrodinger's Cat, Ultra-Violet Catastrophe, Discrete atomic energy levels)\n",
    "    - What algorithms can be implemented using a quantum circuit? Can we simulate all classical algorithms?\n",
    "    - What are qubits physically? How do we actually make these gates?\n",
    "\n",
    "I'll leave these unanswered, but feel free to explore them on your own."
   ]
  }
 ],
 "metadata": {
  "kernelspec": {
   "display_name": "Python 3",
   "language": "python",
   "name": "python3"
  },
  "language_info": {
   "codemirror_mode": {
    "name": "ipython",
    "version": 3
   },
   "file_extension": ".py",
   "mimetype": "text/x-python",
   "name": "python",
   "nbconvert_exporter": "python",
   "pygments_lexer": "ipython3",
   "version": "3.12.2"
  }
 },
 "nbformat": 4,
 "nbformat_minor": 5
}
